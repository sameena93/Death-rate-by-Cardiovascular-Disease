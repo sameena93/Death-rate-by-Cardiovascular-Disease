{
 "cells": [
  {
   "cell_type": "markdown",
   "id": "8aa94104",
   "metadata": {},
   "source": [
    "## Import the Libraries"
   ]
  },
  {
   "cell_type": "code",
   "execution_count": 1,
   "id": "95ecc8f7",
   "metadata": {},
   "outputs": [
    {
     "name": "stderr",
     "output_type": "stream",
     "text": [
      "Registered S3 methods overwritten by 'ggplot2':\n",
      "  method         from \n",
      "  [.quosures     rlang\n",
      "  c.quosures     rlang\n",
      "  print.quosures rlang\n",
      "\n",
      "Attaching package: 'dplyr'\n",
      "\n",
      "The following objects are masked from 'package:stats':\n",
      "\n",
      "    filter, lag\n",
      "\n",
      "The following objects are masked from 'package:base':\n",
      "\n",
      "    intersect, setdiff, setequal, union\n",
      "\n",
      "Registered S3 method overwritten by 'rvest':\n",
      "  method            from\n",
      "  read_xml.response xml2\n",
      "-- Attaching packages --------------------------------------- tidyverse 1.2.1 --\n",
      "v tibble  2.1.1     v purrr   0.3.2\n",
      "v tidyr   0.8.3     v stringr 1.4.0\n",
      "v readr   1.3.1     v forcats 0.4.0\n",
      "-- Conflicts ------------------------------------------ tidyverse_conflicts() --\n",
      "x dplyr::filter() masks stats::filter()\n",
      "x dplyr::lag()    masks stats::lag()\n",
      "randomForest 4.6-14\n",
      "Type rfNews() to see new features/changes/bug fixes.\n",
      "\n",
      "Attaching package: 'randomForest'\n",
      "\n",
      "The following object is masked from 'package:dplyr':\n",
      "\n",
      "    combine\n",
      "\n",
      "The following object is masked from 'package:ggplot2':\n",
      "\n",
      "    margin\n",
      "\n",
      "corrplot 0.84 loaded\n",
      "Loading required package: lattice\n",
      "\n",
      "Attaching package: 'caret'\n",
      "\n",
      "The following object is masked from 'package:purrr':\n",
      "\n",
      "    lift\n",
      "\n",
      "Type 'citation(\"pROC\")' for a citation.\n",
      "\n",
      "Attaching package: 'pROC'\n",
      "\n",
      "The following objects are masked from 'package:stats':\n",
      "\n",
      "    cov, smooth, var\n",
      "\n"
     ]
    }
   ],
   "source": [
    "#Import the libraries\n",
    "suppressWarnings({\n",
    "    \n",
    "library(ggplot2)\n",
    "library(dplyr)\n",
    "library(tidyverse)\n",
    "library(randomForest)\n",
    "library(corrplot)\n",
    "# library(explore)\n",
    "library(caret)\n",
    "library(pROC)\n",
    "library(e1071)\n",
    "library(corrplot)\n",
    "    \n",
    "})"
   ]
  },
  {
   "cell_type": "markdown",
   "id": "4f5067f6",
   "metadata": {},
   "source": [
    "## Load the datset"
   ]
  },
  {
   "cell_type": "code",
   "execution_count": 2,
   "id": "53c4c9d2",
   "metadata": {
    "scrolled": true
   },
   "outputs": [],
   "source": [
    "#Load the dataset\n",
    "heart_failure_dataset <- read.csv(\"C:/Users/moham/DataScience/Predictive modeling/PM_ projects/Final Project/heart_failure_dataset.csv\")"
   ]
  },
  {
   "cell_type": "code",
   "execution_count": 3,
   "id": "443e9581",
   "metadata": {},
   "outputs": [
    {
     "data": {
      "text/html": [
       "<table>\n",
       "<thead><tr><th scope=col>age</th><th scope=col>anaemia</th><th scope=col>creatinine_phosphokinase</th><th scope=col>diabetes</th><th scope=col>ejection_fraction</th><th scope=col>high_blood_pressure</th><th scope=col>platelets</th><th scope=col>serum_creatinine</th><th scope=col>serum_sodium</th><th scope=col>gender</th><th scope=col>smoking</th><th scope=col>time</th><th scope=col>DEATH_EVENT</th></tr></thead>\n",
       "<tbody>\n",
       "\t<tr><td>75    </td><td>No    </td><td> 582  </td><td>No    </td><td>20    </td><td>Yes   </td><td>265000</td><td>1.9   </td><td>130   </td><td>Male  </td><td>No    </td><td>4     </td><td>Yes   </td></tr>\n",
       "\t<tr><td>55    </td><td>No    </td><td>7861  </td><td>No    </td><td>38    </td><td>No    </td><td>263358</td><td>1.1   </td><td>136   </td><td>Male  </td><td>No    </td><td>6     </td><td>Yes   </td></tr>\n",
       "\t<tr><td>65    </td><td>No    </td><td> 146  </td><td>No    </td><td>20    </td><td>No    </td><td>162000</td><td>1.3   </td><td>129   </td><td>Male  </td><td>Yes   </td><td>7     </td><td>Yes   </td></tr>\n",
       "\t<tr><td>50    </td><td>Yes   </td><td> 111  </td><td>No    </td><td>20    </td><td>No    </td><td>210000</td><td>1.9   </td><td>137   </td><td>Male  </td><td>No    </td><td>7     </td><td>Yes   </td></tr>\n",
       "\t<tr><td>65    </td><td>Yes   </td><td> 160  </td><td>Yes   </td><td>20    </td><td>No    </td><td>327000</td><td>2.7   </td><td>116   </td><td>Female</td><td>No    </td><td>8     </td><td>Yes   </td></tr>\n",
       "\t<tr><td>90    </td><td>Yes   </td><td>  47  </td><td>No    </td><td>40    </td><td>Yes   </td><td>204000</td><td>2.1   </td><td>132   </td><td>Male  </td><td>Yes   </td><td>8     </td><td>Yes   </td></tr>\n",
       "</tbody>\n",
       "</table>\n"
      ],
      "text/latex": [
       "\\begin{tabular}{r|lllllllllllll}\n",
       " age & anaemia & creatinine\\_phosphokinase & diabetes & ejection\\_fraction & high\\_blood\\_pressure & platelets & serum\\_creatinine & serum\\_sodium & gender & smoking & time & DEATH\\_EVENT\\\\\n",
       "\\hline\n",
       "\t 75     & No     &  582   & No     & 20     & Yes    & 265000 & 1.9    & 130    & Male   & No     & 4      & Yes   \\\\\n",
       "\t 55     & No     & 7861   & No     & 38     & No     & 263358 & 1.1    & 136    & Male   & No     & 6      & Yes   \\\\\n",
       "\t 65     & No     &  146   & No     & 20     & No     & 162000 & 1.3    & 129    & Male   & Yes    & 7      & Yes   \\\\\n",
       "\t 50     & Yes    &  111   & No     & 20     & No     & 210000 & 1.9    & 137    & Male   & No     & 7      & Yes   \\\\\n",
       "\t 65     & Yes    &  160   & Yes    & 20     & No     & 327000 & 2.7    & 116    & Female & No     & 8      & Yes   \\\\\n",
       "\t 90     & Yes    &   47   & No     & 40     & Yes    & 204000 & 2.1    & 132    & Male   & Yes    & 8      & Yes   \\\\\n",
       "\\end{tabular}\n"
      ],
      "text/markdown": [
       "\n",
       "| age | anaemia | creatinine_phosphokinase | diabetes | ejection_fraction | high_blood_pressure | platelets | serum_creatinine | serum_sodium | gender | smoking | time | DEATH_EVENT |\n",
       "|---|---|---|---|---|---|---|---|---|---|---|---|---|\n",
       "| 75     | No     |  582   | No     | 20     | Yes    | 265000 | 1.9    | 130    | Male   | No     | 4      | Yes    |\n",
       "| 55     | No     | 7861   | No     | 38     | No     | 263358 | 1.1    | 136    | Male   | No     | 6      | Yes    |\n",
       "| 65     | No     |  146   | No     | 20     | No     | 162000 | 1.3    | 129    | Male   | Yes    | 7      | Yes    |\n",
       "| 50     | Yes    |  111   | No     | 20     | No     | 210000 | 1.9    | 137    | Male   | No     | 7      | Yes    |\n",
       "| 65     | Yes    |  160   | Yes    | 20     | No     | 327000 | 2.7    | 116    | Female | No     | 8      | Yes    |\n",
       "| 90     | Yes    |   47   | No     | 40     | Yes    | 204000 | 2.1    | 132    | Male   | Yes    | 8      | Yes    |\n",
       "\n"
      ],
      "text/plain": [
       "  age anaemia creatinine_phosphokinase diabetes ejection_fraction\n",
       "1 75  No       582                     No       20               \n",
       "2 55  No      7861                     No       38               \n",
       "3 65  No       146                     No       20               \n",
       "4 50  Yes      111                     No       20               \n",
       "5 65  Yes      160                     Yes      20               \n",
       "6 90  Yes       47                     No       40               \n",
       "  high_blood_pressure platelets serum_creatinine serum_sodium gender smoking\n",
       "1 Yes                 265000    1.9              130          Male   No     \n",
       "2 No                  263358    1.1              136          Male   No     \n",
       "3 No                  162000    1.3              129          Male   Yes    \n",
       "4 No                  210000    1.9              137          Male   No     \n",
       "5 No                  327000    2.7              116          Female No     \n",
       "6 Yes                 204000    2.1              132          Male   Yes    \n",
       "  time DEATH_EVENT\n",
       "1 4    Yes        \n",
       "2 6    Yes        \n",
       "3 7    Yes        \n",
       "4 7    Yes        \n",
       "5 8    Yes        \n",
       "6 8    Yes        "
      ]
     },
     "metadata": {},
     "output_type": "display_data"
    }
   ],
   "source": [
    "#Display the first few rows\n",
    "head(heart_failure_dataset)\n"
   ]
  },
  {
   "cell_type": "code",
   "execution_count": 4,
   "id": "c7042cc4",
   "metadata": {},
   "outputs": [
    {
     "data": {
      "text/html": [
       "<table>\n",
       "<thead><tr><th></th><th scope=col>age</th><th scope=col>anaemia</th><th scope=col>creatinine_phosphokinase</th><th scope=col>diabetes</th><th scope=col>ejection_fraction</th><th scope=col>high_blood_pressure</th><th scope=col>platelets</th><th scope=col>serum_creatinine</th><th scope=col>serum_sodium</th><th scope=col>gender</th><th scope=col>smoking</th><th scope=col>time</th><th scope=col>DEATH_EVENT</th></tr></thead>\n",
       "<tbody>\n",
       "\t<tr><th scope=row>294</th><td>63    </td><td>Yes   </td><td> 103  </td><td>Yes   </td><td>35    </td><td>No    </td><td>179000</td><td>0.9   </td><td>136   </td><td>Male  </td><td>Yes   </td><td>270   </td><td>No    </td></tr>\n",
       "\t<tr><th scope=row>295</th><td>62    </td><td>No    </td><td>  61  </td><td>Yes   </td><td>38    </td><td>Yes   </td><td>155000</td><td>1.1   </td><td>143   </td><td>Male  </td><td>Yes   </td><td>270   </td><td>No    </td></tr>\n",
       "\t<tr><th scope=row>296</th><td>55    </td><td>No    </td><td>1820  </td><td>No    </td><td>38    </td><td>No    </td><td>270000</td><td>1.2   </td><td>139   </td><td>Female</td><td>No    </td><td>271   </td><td>No    </td></tr>\n",
       "\t<tr><th scope=row>297</th><td>45    </td><td>No    </td><td>2060  </td><td>Yes   </td><td>60    </td><td>No    </td><td>742000</td><td>0.8   </td><td>138   </td><td>Female</td><td>No    </td><td>278   </td><td>No    </td></tr>\n",
       "\t<tr><th scope=row>298</th><td>45    </td><td>No    </td><td>2413  </td><td>No    </td><td>38    </td><td>No    </td><td>140000</td><td>1.4   </td><td>140   </td><td>Male  </td><td>Yes   </td><td>280   </td><td>No    </td></tr>\n",
       "\t<tr><th scope=row>299</th><td>50    </td><td>No    </td><td> 196  </td><td>No    </td><td>45    </td><td>No    </td><td>395000</td><td>1.6   </td><td>136   </td><td>Male  </td><td>Yes   </td><td>285   </td><td>No    </td></tr>\n",
       "</tbody>\n",
       "</table>\n"
      ],
      "text/latex": [
       "\\begin{tabular}{r|lllllllllllll}\n",
       "  & age & anaemia & creatinine\\_phosphokinase & diabetes & ejection\\_fraction & high\\_blood\\_pressure & platelets & serum\\_creatinine & serum\\_sodium & gender & smoking & time & DEATH\\_EVENT\\\\\n",
       "\\hline\n",
       "\t294 & 63     & Yes    &  103   & Yes    & 35     & No     & 179000 & 0.9    & 136    & Male   & Yes    & 270    & No    \\\\\n",
       "\t295 & 62     & No     &   61   & Yes    & 38     & Yes    & 155000 & 1.1    & 143    & Male   & Yes    & 270    & No    \\\\\n",
       "\t296 & 55     & No     & 1820   & No     & 38     & No     & 270000 & 1.2    & 139    & Female & No     & 271    & No    \\\\\n",
       "\t297 & 45     & No     & 2060   & Yes    & 60     & No     & 742000 & 0.8    & 138    & Female & No     & 278    & No    \\\\\n",
       "\t298 & 45     & No     & 2413   & No     & 38     & No     & 140000 & 1.4    & 140    & Male   & Yes    & 280    & No    \\\\\n",
       "\t299 & 50     & No     &  196   & No     & 45     & No     & 395000 & 1.6    & 136    & Male   & Yes    & 285    & No    \\\\\n",
       "\\end{tabular}\n"
      ],
      "text/markdown": [
       "\n",
       "| <!--/--> | age | anaemia | creatinine_phosphokinase | diabetes | ejection_fraction | high_blood_pressure | platelets | serum_creatinine | serum_sodium | gender | smoking | time | DEATH_EVENT |\n",
       "|---|---|---|---|---|---|---|---|---|---|---|---|---|---|\n",
       "| 294 | 63     | Yes    |  103   | Yes    | 35     | No     | 179000 | 0.9    | 136    | Male   | Yes    | 270    | No     |\n",
       "| 295 | 62     | No     |   61   | Yes    | 38     | Yes    | 155000 | 1.1    | 143    | Male   | Yes    | 270    | No     |\n",
       "| 296 | 55     | No     | 1820   | No     | 38     | No     | 270000 | 1.2    | 139    | Female | No     | 271    | No     |\n",
       "| 297 | 45     | No     | 2060   | Yes    | 60     | No     | 742000 | 0.8    | 138    | Female | No     | 278    | No     |\n",
       "| 298 | 45     | No     | 2413   | No     | 38     | No     | 140000 | 1.4    | 140    | Male   | Yes    | 280    | No     |\n",
       "| 299 | 50     | No     |  196   | No     | 45     | No     | 395000 | 1.6    | 136    | Male   | Yes    | 285    | No     |\n",
       "\n"
      ],
      "text/plain": [
       "    age anaemia creatinine_phosphokinase diabetes ejection_fraction\n",
       "294 63  Yes      103                     Yes      35               \n",
       "295 62  No        61                     Yes      38               \n",
       "296 55  No      1820                     No       38               \n",
       "297 45  No      2060                     Yes      60               \n",
       "298 45  No      2413                     No       38               \n",
       "299 50  No       196                     No       45               \n",
       "    high_blood_pressure platelets serum_creatinine serum_sodium gender smoking\n",
       "294 No                  179000    0.9              136          Male   Yes    \n",
       "295 Yes                 155000    1.1              143          Male   Yes    \n",
       "296 No                  270000    1.2              139          Female No     \n",
       "297 No                  742000    0.8              138          Female No     \n",
       "298 No                  140000    1.4              140          Male   Yes    \n",
       "299 No                  395000    1.6              136          Male   Yes    \n",
       "    time DEATH_EVENT\n",
       "294 270  No         \n",
       "295 270  No         \n",
       "296 271  No         \n",
       "297 278  No         \n",
       "298 280  No         \n",
       "299 285  No         "
      ]
     },
     "metadata": {},
     "output_type": "display_data"
    }
   ],
   "source": [
    "#last rows of the datset\n",
    "tail(heart_failure_dataset)\n"
   ]
  },
  {
   "cell_type": "code",
   "execution_count": 5,
   "id": "baf5c770",
   "metadata": {},
   "outputs": [
    {
     "data": {
      "text/html": [
       "<ol class=list-inline>\n",
       "\t<li>'age'</li>\n",
       "\t<li>'anaemia'</li>\n",
       "\t<li>'creatinine_phosphokinase'</li>\n",
       "\t<li>'diabetes'</li>\n",
       "\t<li>'ejection_fraction'</li>\n",
       "\t<li>'high_blood_pressure'</li>\n",
       "\t<li>'platelets'</li>\n",
       "\t<li>'serum_creatinine'</li>\n",
       "\t<li>'serum_sodium'</li>\n",
       "\t<li>'gender'</li>\n",
       "\t<li>'smoking'</li>\n",
       "\t<li>'time'</li>\n",
       "\t<li>'DEATH_EVENT'</li>\n",
       "</ol>\n"
      ],
      "text/latex": [
       "\\begin{enumerate*}\n",
       "\\item 'age'\n",
       "\\item 'anaemia'\n",
       "\\item 'creatinine\\_phosphokinase'\n",
       "\\item 'diabetes'\n",
       "\\item 'ejection\\_fraction'\n",
       "\\item 'high\\_blood\\_pressure'\n",
       "\\item 'platelets'\n",
       "\\item 'serum\\_creatinine'\n",
       "\\item 'serum\\_sodium'\n",
       "\\item 'gender'\n",
       "\\item 'smoking'\n",
       "\\item 'time'\n",
       "\\item 'DEATH\\_EVENT'\n",
       "\\end{enumerate*}\n"
      ],
      "text/markdown": [
       "1. 'age'\n",
       "2. 'anaemia'\n",
       "3. 'creatinine_phosphokinase'\n",
       "4. 'diabetes'\n",
       "5. 'ejection_fraction'\n",
       "6. 'high_blood_pressure'\n",
       "7. 'platelets'\n",
       "8. 'serum_creatinine'\n",
       "9. 'serum_sodium'\n",
       "10. 'gender'\n",
       "11. 'smoking'\n",
       "12. 'time'\n",
       "13. 'DEATH_EVENT'\n",
       "\n",
       "\n"
      ],
      "text/plain": [
       " [1] \"age\"                      \"anaemia\"                 \n",
       " [3] \"creatinine_phosphokinase\" \"diabetes\"                \n",
       " [5] \"ejection_fraction\"        \"high_blood_pressure\"     \n",
       " [7] \"platelets\"                \"serum_creatinine\"        \n",
       " [9] \"serum_sodium\"             \"gender\"                  \n",
       "[11] \"smoking\"                  \"time\"                    \n",
       "[13] \"DEATH_EVENT\"             "
      ]
     },
     "metadata": {},
     "output_type": "display_data"
    }
   ],
   "source": [
    "#Column names \n",
    "colnames(heart_failure_dataset)\n"
   ]
  },
  {
   "cell_type": "code",
   "execution_count": 6,
   "id": "c798a871",
   "metadata": {},
   "outputs": [
    {
     "data": {
      "text/plain": [
       "      age        anaemia   creatinine_phosphokinase diabetes  ejection_fraction\n",
       " Min.   :40.00   No :170   Min.   :  23.0           No :174   Min.   :14.00    \n",
       " 1st Qu.:51.00   Yes:129   1st Qu.: 116.5           Yes:125   1st Qu.:30.00    \n",
       " Median :60.00             Median : 250.0                     Median :38.00    \n",
       " Mean   :60.83             Mean   : 581.8                     Mean   :38.08    \n",
       " 3rd Qu.:70.00             3rd Qu.: 582.0                     3rd Qu.:45.00    \n",
       " Max.   :95.00             Max.   :7861.0                     Max.   :80.00    \n",
       " high_blood_pressure   platelets      serum_creatinine  serum_sodium  \n",
       " No :194             Min.   : 25100   Min.   :0.500    Min.   :113.0  \n",
       " Yes:105             1st Qu.:212500   1st Qu.:0.900    1st Qu.:134.0  \n",
       "                     Median :262000   Median :1.100    Median :137.0  \n",
       "                     Mean   :263358   Mean   :1.394    Mean   :136.6  \n",
       "                     3rd Qu.:303500   3rd Qu.:1.400    3rd Qu.:140.0  \n",
       "                     Max.   :850000   Max.   :9.400    Max.   :148.0  \n",
       "    gender    smoking        time       DEATH_EVENT\n",
       " Female:105   No :203   Min.   :  4.0   No :203    \n",
       " Male  :194   Yes: 96   1st Qu.: 73.0   Yes: 96    \n",
       "                        Median :115.0              \n",
       "                        Mean   :130.3              \n",
       "                        3rd Qu.:203.0              \n",
       "                        Max.   :285.0              "
      ]
     },
     "metadata": {},
     "output_type": "display_data"
    }
   ],
   "source": [
    "#summary of dataset\n",
    "summary(heart_failure_dataset)"
   ]
  },
  {
   "cell_type": "code",
   "execution_count": 7,
   "id": "f21f8687",
   "metadata": {},
   "outputs": [
    {
     "name": "stdout",
     "output_type": "stream",
     "text": [
      "'data.frame':\t299 obs. of  13 variables:\n",
      " $ age                     : num  75 55 65 50 65 90 75 60 65 80 ...\n",
      " $ anaemia                 : Factor w/ 2 levels \"No\",\"Yes\": 1 1 1 2 2 2 2 2 1 2 ...\n",
      " $ creatinine_phosphokinase: int  582 7861 146 111 160 47 246 315 157 123 ...\n",
      " $ diabetes                : Factor w/ 2 levels \"No\",\"Yes\": 1 1 1 1 2 1 1 2 1 1 ...\n",
      " $ ejection_fraction       : int  20 38 20 20 20 40 15 60 65 35 ...\n",
      " $ high_blood_pressure     : Factor w/ 2 levels \"No\",\"Yes\": 2 1 1 1 1 2 1 1 1 2 ...\n",
      " $ platelets               : num  265000 263358 162000 210000 327000 ...\n",
      " $ serum_creatinine        : num  1.9 1.1 1.3 1.9 2.7 2.1 1.2 1.1 1.5 9.4 ...\n",
      " $ serum_sodium            : int  130 136 129 137 116 132 137 131 138 133 ...\n",
      " $ gender                  : Factor w/ 2 levels \"Female\",\"Male\": 2 2 2 2 1 2 2 2 1 2 ...\n",
      " $ smoking                 : Factor w/ 2 levels \"No\",\"Yes\": 1 1 2 1 1 2 1 2 1 2 ...\n",
      " $ time                    : int  4 6 7 7 8 8 10 10 10 10 ...\n",
      " $ DEATH_EVENT             : Factor w/ 2 levels \"No\",\"Yes\": 2 2 2 2 2 2 2 2 2 2 ...\n"
     ]
    }
   ],
   "source": [
    "#structure of dataset\n",
    "str(heart_failure_dataset)"
   ]
  },
  {
   "cell_type": "code",
   "execution_count": 8,
   "id": "12816dc3",
   "metadata": {},
   "outputs": [
    {
     "data": {
      "text/html": [
       "0"
      ],
      "text/latex": [
       "0"
      ],
      "text/markdown": [
       "0"
      ],
      "text/plain": [
       "[1] 0"
      ]
     },
     "metadata": {},
     "output_type": "display_data"
    }
   ],
   "source": [
    "#check for missing values\n",
    "sum(is.na(heart_failure_dataset))"
   ]
  },
  {
   "cell_type": "code",
   "execution_count": 9,
   "id": "30b4e945",
   "metadata": {},
   "outputs": [
    {
     "name": "stdout",
     "output_type": "stream",
     "text": [
      "                     age                  anaemia creatinine_phosphokinase \n",
      "               \"numeric\"                 \"factor\"                \"integer\" \n",
      "                diabetes        ejection_fraction      high_blood_pressure \n",
      "                \"factor\"                \"integer\"                 \"factor\" \n",
      "               platelets         serum_creatinine             serum_sodium \n",
      "               \"numeric\"                \"numeric\"                \"integer\" \n",
      "                  gender                  smoking                     time \n",
      "                \"factor\"                 \"factor\"                \"integer\" \n",
      "             DEATH_EVENT \n",
      "                \"factor\" \n"
     ]
    }
   ],
   "source": [
    "column_classes <- sapply(heart_failure_dataset,class)\n",
    "print(column_classes)"
   ]
  },
  {
   "cell_type": "code",
   "execution_count": 10,
   "id": "910b411c",
   "metadata": {},
   "outputs": [],
   "source": [
    "# converting the categorical column to as a factor\n",
    "heart_failure_dataset$anaemia <- as.factor(heart_failure_dataset$anaemia)\n",
    "heart_failure_dataset$diabetes <- as.factor(heart_failure_dataset$diabetes)\n",
    "heart_failure_dataset$high_blood_pressure <- as.factor(heart_failure_dataset$high_blood_pressure )\n",
    "heart_failure_dataset$smoking <- as.factor(heart_failure_dataset$smoking)\n",
    "heart_failure_dataset$gender <- as.factor(heart_failure_dataset$gender)\n",
    "heart_failure_dataset$DEATH_EVENT <- as.factor(heart_failure_dataset$DEATH_EVENT)"
   ]
  },
  {
   "cell_type": "code",
   "execution_count": 11,
   "id": "b2483fe2",
   "metadata": {},
   "outputs": [
    {
     "name": "stdout",
     "output_type": "stream",
     "text": [
      "[1] \"Categorical columns:\"\n"
     ]
    },
    {
     "data": {
      "text/html": [
       "<ol class=list-inline>\n",
       "\t<li>'anaemia'</li>\n",
       "\t<li>'diabetes'</li>\n",
       "\t<li>'high_blood_pressure'</li>\n",
       "\t<li>'gender'</li>\n",
       "\t<li>'smoking'</li>\n",
       "\t<li>'DEATH_EVENT'</li>\n",
       "</ol>\n"
      ],
      "text/latex": [
       "\\begin{enumerate*}\n",
       "\\item 'anaemia'\n",
       "\\item 'diabetes'\n",
       "\\item 'high\\_blood\\_pressure'\n",
       "\\item 'gender'\n",
       "\\item 'smoking'\n",
       "\\item 'DEATH\\_EVENT'\n",
       "\\end{enumerate*}\n"
      ],
      "text/markdown": [
       "1. 'anaemia'\n",
       "2. 'diabetes'\n",
       "3. 'high_blood_pressure'\n",
       "4. 'gender'\n",
       "5. 'smoking'\n",
       "6. 'DEATH_EVENT'\n",
       "\n",
       "\n"
      ],
      "text/plain": [
       "[1] \"anaemia\"             \"diabetes\"            \"high_blood_pressure\"\n",
       "[4] \"gender\"              \"smoking\"             \"DEATH_EVENT\"        "
      ]
     },
     "metadata": {},
     "output_type": "display_data"
    },
    {
     "name": "stdout",
     "output_type": "stream",
     "text": [
      "[1] \"Numerical columns:\"\n"
     ]
    },
    {
     "data": {
      "text/html": [
       "<ol class=list-inline>\n",
       "\t<li>'age'</li>\n",
       "\t<li>'creatinine_phosphokinase'</li>\n",
       "\t<li>'ejection_fraction'</li>\n",
       "\t<li>'platelets'</li>\n",
       "\t<li>'serum_creatinine'</li>\n",
       "\t<li>'serum_sodium'</li>\n",
       "\t<li>'time'</li>\n",
       "</ol>\n"
      ],
      "text/latex": [
       "\\begin{enumerate*}\n",
       "\\item 'age'\n",
       "\\item 'creatinine\\_phosphokinase'\n",
       "\\item 'ejection\\_fraction'\n",
       "\\item 'platelets'\n",
       "\\item 'serum\\_creatinine'\n",
       "\\item 'serum\\_sodium'\n",
       "\\item 'time'\n",
       "\\end{enumerate*}\n"
      ],
      "text/markdown": [
       "1. 'age'\n",
       "2. 'creatinine_phosphokinase'\n",
       "3. 'ejection_fraction'\n",
       "4. 'platelets'\n",
       "5. 'serum_creatinine'\n",
       "6. 'serum_sodium'\n",
       "7. 'time'\n",
       "\n",
       "\n"
      ],
      "text/plain": [
       "[1] \"age\"                      \"creatinine_phosphokinase\"\n",
       "[3] \"ejection_fraction\"        \"platelets\"               \n",
       "[5] \"serum_creatinine\"         \"serum_sodium\"            \n",
       "[7] \"time\"                    "
      ]
     },
     "metadata": {},
     "output_type": "display_data"
    }
   ],
   "source": [
    "# Divide the categorical and numerical columns\n",
    "\n",
    "## Create an empty lists\n",
    "cat_col <- character(0)\n",
    "num_col <- character(0)\n",
    "\n",
    "for (col in colnames(heart_failure_dataset)) {\n",
    "  if (is.factor(heart_failure_dataset[[col]])) {\n",
    "    cat_col <- c(cat_col, col)\n",
    "  } else if (is.numeric(heart_failure_dataset[[col]])) {\n",
    "    num_col <- c(num_col, col)\n",
    "  }\n",
    "}\n",
    "\n",
    "#Display the categorical and numerical columns lists\n",
    "print(\"Categorical columns:\")\n",
    "cat_col\n",
    "\n",
    "print(\"Numerical columns:\")\n",
    "num_col  "
   ]
  },
  {
   "cell_type": "markdown",
   "id": "ddb06cae",
   "metadata": {},
   "source": [
    "## Exploratory data analysis"
   ]
  },
  {
   "cell_type": "code",
   "execution_count": 12,
   "id": "88092608",
   "metadata": {},
   "outputs": [
    {
     "data": {
      "image/png": "[encoded data removed]",
      "text/plain": [
       "plot without title"
      ]
     },
     "metadata": {},
     "output_type": "display_data"
    }
   ],
   "source": [
    "#Scatter plot of Ejection Fraction Vs Age by Death event\n",
    "heart_failure_dataset %>%\n",
    "  ggplot(aes(x = age, y = ejection_fraction, color = DEATH_EVENT)) +\n",
    "  geom_point(aes(shape = DEATH_EVENT), size = 2) +\n",
    "  labs(title = \"Ejection Fraction Vs Age by Death Event\", x = \"Age\", y = \"Ejection Fraction\")+\n",
    "  theme(plot.title = element_text(face= 'bold', hjust=0.5, size=16),\n",
    "        axis.title = element_text(face='bold', size=12))+\n",
    "  scale_color_manual(values = c('Yes' = \"red\", 'No' =\"#4DBEEE\"))\n",
    "  \n",
    "ggsave(\"C:\\\\Users\\\\moham\\\\DataScience\\\\Predictive modeling\\\\PM_ projects\\\\Final Project\\\\ejection_fraction_by_age.jpeg\",\n",
    "       width=10, height=8)\n"
   ]
  },
  {
   "cell_type": "code",
   "execution_count": 13,
   "id": "68eb2867",
   "metadata": {},
   "outputs": [
    {
     "data": {
      "image/png": "[encoded data removed]",
      "text/plain": [
       "plot without title"
      ]
     },
     "metadata": {},
     "output_type": "display_data"
    }
   ],
   "source": [
    "#Density plot of hospital visit by death events\n",
    "heart_failure_dataset %>%  \n",
    "ggplot(aes(x=time, fill=DEATH_EVENT))+\n",
    "  geom_density()+\n",
    "  scale_fill_manual(values = c('Yes'='#F7F4BF', 'No'='#FCEAE6'))+\n",
    "  labs(title= \"Death Events by Number of Visits to the Hospital\", x=\"Time(Number of visit)\", y=\"Density\")+\n",
    "  theme(plot.title = element_text(face= 'bold', hjust=0.5),\n",
    "        axis.title = element_text(face='bold',size=12))\n",
    "ggsave(\"C:\\\\Users\\\\moham\\\\DataScience\\\\Predictive modeling\\\\PM_ projects\\\\Final Project\\\\ejection fraction by age.jpeg\", width=8, height=3)\n"
   ]
  },
  {
   "cell_type": "code",
   "execution_count": 14,
   "id": "7a7fb438",
   "metadata": {},
   "outputs": [],
   "source": [
    "#Explore graph using all variables\n",
    "# heart_failure_dataset %>% explore_all(target=DEATH_EVENT)"
   ]
  },
  {
   "cell_type": "code",
   "execution_count": 15,
   "id": "5a227e87",
   "metadata": {},
   "outputs": [
    {
     "data": {
      "image/png": "[encoded data removed]",
      "text/plain": [
       "plot without title"
      ]
     },
     "metadata": {},
     "output_type": "display_data"
    }
   ],
   "source": [
    "#Histogram of serum creatinine by death events with high blood pressure\n",
    "\n",
    "heart_failure_dataset %>% \n",
    "  ggplot(aes(x=serum_creatinine, fill=high_blood_pressure))+\n",
    "  geom_histogram(color= 'black', bins=30)+\n",
    "  facet_wrap(~ DEATH_EVENT)+\n",
    "  scale_fill_manual(values= c('No' = 'mistyrose', 'Yes'= 'plum3'))+\n",
    "  labs(title= 'Histogram of Sr Creatinine by Death Events with HTN',\n",
    "       x= 'Serum Creatinine',\n",
    "       y= 'Count')+\n",
    "  theme(plot.title = element_text(face= 'bold', hjust=0.5),\n",
    "        axis.title = element_text(face='bold',size=12))\n",
    "\n",
    "ggsave(\"C:\\\\Users\\\\moham\\\\DataScience\\\\Predictive modeling\\\\PM_ projects\\\\Final Project\\\\creatbyhtn.jpeg\", width=6, height=2)\n"
   ]
  },
  {
   "cell_type": "code",
   "execution_count": 16,
   "id": "3322dfcf",
   "metadata": {},
   "outputs": [
    {
     "name": "stderr",
     "output_type": "stream",
     "text": [
      "Warning message in grid.Call(C_textBounds, as.graphicsAnnot(x$label), x$x, x$y, :\n",
      "\"font family not found in Windows font database\"Warning message in grid.Call(C_textBounds, as.graphicsAnnot(x$label), x$x, x$y, :\n",
      "\"font family not found in Windows font database\""
     ]
    },
    {
     "data": {
      "image/png": "[encoded data removed]",
      "text/plain": [
       "plot without title"
      ]
     },
     "metadata": {},
     "output_type": "display_data"
    }
   ],
   "source": [
    "suppressWarnings({\n",
    "    \n",
    "# scatter plot of serum creatinine by creatinine_phosphokinase filled with death events\n",
    "heart_failure_dataset %>% \n",
    "ggplot(aes(x = serum_creatinine,y= creatinine_phosphokinase, color = DEATH_EVENT)) +\n",
    "  geom_point() +\n",
    "  labs(\n",
    "    title = \"Creatinine vs. creatinine_phosphokinase by Death Event\",\n",
    "    x = 'Serum Creatinine',\n",
    "    y = \" Creatinine Phosphokinase\",\n",
    "    color = \"Death Event\"\n",
    "  ) +\n",
    "  theme(plot.title = element_text(hjust=0.5, face='bold'),\n",
    "        axis.title =  element_text(face='bold'),\n",
    "        legend.title  = element_text((face='bold')))\n",
    "})"
   ]
  },
  {
   "cell_type": "code",
   "execution_count": 17,
   "id": "65cd62ea",
   "metadata": {},
   "outputs": [],
   "source": [
    "\n",
    "# converting the categorical column to numeric column\n",
    "heart_failure_dataset$anaemia <- as.numeric(heart_failure_dataset$anaemia == \"Yes\")\n",
    "heart_failure_dataset$diabetes <- as.numeric(heart_failure_dataset$diabetes == 'Yes')\n",
    "heart_failure_dataset$high_blood_pressure <- as.numeric(heart_failure_dataset$high_blood_pressure == \"Yes\")\n",
    "heart_failure_dataset$smoking <- as.numeric(heart_failure_dataset$smoking == \"Yes\")\n",
    "heart_failure_dataset$gender <- as.numeric(heart_failure_dataset$gender == 'Male')\n",
    "heart_failure_dataset$DEATH_EVENT <- as.factor(heart_failure_dataset$DEATH_EVENT)\n"
   ]
  },
  {
   "cell_type": "code",
   "execution_count": 18,
   "id": "50e6ab54",
   "metadata": {},
   "outputs": [
    {
     "data": {
      "text/html": [
       "<ol class=list-inline>\n",
       "\t<li>'age'</li>\n",
       "\t<li>'anaemia'</li>\n",
       "\t<li>'creatinine_phosphokinase'</li>\n",
       "\t<li>'diabetes'</li>\n",
       "\t<li>'ejection_fraction'</li>\n",
       "\t<li>'high_blood_pressure'</li>\n",
       "\t<li>'platelets'</li>\n",
       "\t<li>'serum_creatinine'</li>\n",
       "\t<li>'serum_sodium'</li>\n",
       "\t<li>'gender'</li>\n",
       "\t<li>'smoking'</li>\n",
       "\t<li>'time'</li>\n",
       "</ol>\n"
      ],
      "text/latex": [
       "\\begin{enumerate*}\n",
       "\\item 'age'\n",
       "\\item 'anaemia'\n",
       "\\item 'creatinine\\_phosphokinase'\n",
       "\\item 'diabetes'\n",
       "\\item 'ejection\\_fraction'\n",
       "\\item 'high\\_blood\\_pressure'\n",
       "\\item 'platelets'\n",
       "\\item 'serum\\_creatinine'\n",
       "\\item 'serum\\_sodium'\n",
       "\\item 'gender'\n",
       "\\item 'smoking'\n",
       "\\item 'time'\n",
       "\\end{enumerate*}\n"
      ],
      "text/markdown": [
       "1. 'age'\n",
       "2. 'anaemia'\n",
       "3. 'creatinine_phosphokinase'\n",
       "4. 'diabetes'\n",
       "5. 'ejection_fraction'\n",
       "6. 'high_blood_pressure'\n",
       "7. 'platelets'\n",
       "8. 'serum_creatinine'\n",
       "9. 'serum_sodium'\n",
       "10. 'gender'\n",
       "11. 'smoking'\n",
       "12. 'time'\n",
       "\n",
       "\n"
      ],
      "text/plain": [
       " [1] \"age\"                      \"anaemia\"                 \n",
       " [3] \"creatinine_phosphokinase\" \"diabetes\"                \n",
       " [5] \"ejection_fraction\"        \"high_blood_pressure\"     \n",
       " [7] \"platelets\"                \"serum_creatinine\"        \n",
       " [9] \"serum_sodium\"             \"gender\"                  \n",
       "[11] \"smoking\"                  \"time\"                    "
      ]
     },
     "metadata": {},
     "output_type": "display_data"
    }
   ],
   "source": [
    "# Seprate the numerical columns \n",
    "numeric_variable <- sapply(heart_failure_dataset, is.numeric)\n",
    "numeric_col <- heart_failure_dataset[, numeric_variable]\n",
    "colnames(numeric_col)\n"
   ]
  },
  {
   "cell_type": "code",
   "execution_count": 19,
   "id": "af68c94a",
   "metadata": {},
   "outputs": [
    {
     "name": "stderr",
     "output_type": "stream",
     "text": [
      "Warning message in text.default(pos.xlabel[, 1], pos.xlabel[, 2], newcolnames, srt = tl.srt, :\n",
      "\"\"hc.order\" is not a graphical parameter\"Warning message in text.default(pos.ylabel[, 1], pos.ylabel[, 2], newrownames, col = tl.col, :\n",
      "\"\"hc.order\" is not a graphical parameter\"Warning message in title(title, ...):\n",
      "\"\"hc.order\" is not a graphical parameter\""
     ]
    },
    {
     "data": {
      "image/png": "[encoded data removed]",
      "text/plain": [
       "Plot with title \"Heatmap of Correlation Matrix\""
      ]
     },
     "metadata": {},
     "output_type": "display_data"
    }
   ],
   "source": [
    "#calculate the correlation of matrix\n",
    "cor_matrix <- cor(numeric_col)\n",
    "\n",
    "# Extract column names for the heatmap\n",
    "newcolnames <- colnames(cor_matrix)\n",
    "\n",
    "# Create the heatmap with text labels\n",
    "corrplot(cor_matrix, hc.order = TRUE, diag = TRUE,\n",
    "          title = \"Heatmap of Correlation Matrix\")"
   ]
  },
  {
   "cell_type": "markdown",
   "id": "19c02795",
   "metadata": {},
   "source": [
    "## Prepare the model "
   ]
  },
  {
   "cell_type": "code",
   "execution_count": 20,
   "id": "b1dba756",
   "metadata": {},
   "outputs": [],
   "source": [
    " ## Split the data set\n",
    "set.seed(123)\n",
    "training_set <- createDataPartition(heart_failure_dataset$DEATH_EVENT, p=0.70, list=FALSE)\n",
    "\n",
    "#70% of training dset\n",
    "training_data <- heart_failure_dataset[training_set, ]\n",
    "\n",
    "# 30% of test data\n",
    "test_data <- heart_failure_dataset[-training_set, ]"
   ]
  },
  {
   "cell_type": "markdown",
   "id": "971851d8",
   "metadata": {},
   "source": [
    "##  Logistic Regression Model"
   ]
  },
  {
   "cell_type": "code",
   "execution_count": 21,
   "id": "853db9f8",
   "metadata": {
    "scrolled": false
   },
   "outputs": [
    {
     "name": "stderr",
     "output_type": "stream",
     "text": [
      "Warning message:\n",
      "\"glm.fit: fitted probabilities numerically 0 or 1 occurred\""
     ]
    },
    {
     "data": {
      "text/plain": [
       "\n",
       "Call:\n",
       "NULL\n",
       "\n",
       "Deviance Residuals: \n",
       "    Min       1Q   Median       3Q      Max  \n",
       "-2.4218  -0.5529  -0.2030   0.4089   2.2795  \n",
       "\n",
       "Coefficients:\n",
       "                           Estimate Std. Error z value Pr(>|z|)    \n",
       "(Intercept)               1.133e+01  8.639e+00   1.312 0.189670    \n",
       "age                       6.125e-02  2.004e-02   3.056 0.002245 ** \n",
       "anaemia                   1.185e-01  4.449e-01   0.266 0.789894    \n",
       "creatinine_phosphokinase  5.132e-05  1.998e-04   0.257 0.797260    \n",
       "diabetes                  1.449e-01  4.473e-01   0.324 0.745966    \n",
       "ejection_fraction        -9.600e-02  2.189e-02  -4.386 1.16e-05 ***\n",
       "high_blood_pressure       1.264e-01  4.578e-01   0.276 0.782457    \n",
       "platelets                 1.808e-06  2.204e-06   0.820 0.412050    \n",
       "serum_creatinine          8.225e-01  2.290e-01   3.591 0.000329 ***\n",
       "serum_sodium             -8.654e-02  5.980e-02  -1.447 0.147820    \n",
       "gender                   -1.154e-01  5.137e-01  -0.225 0.822199    \n",
       "smoking                  -2.017e-01  5.169e-01  -0.390 0.696315    \n",
       "time                     -2.003e-02  3.771e-03  -5.312 1.09e-07 ***\n",
       "---\n",
       "Signif. codes:  0 '***' 0.001 '**' 0.01 '*' 0.05 '.' 0.1 ' ' 1\n",
       "\n",
       "(Dispersion parameter for binomial family taken to be 1)\n",
       "\n",
       "    Null deviance: 265.26  on 210  degrees of freedom\n",
       "Residual deviance: 144.28  on 198  degrees of freedom\n",
       "AIC: 170.28\n",
       "\n",
       "Number of Fisher Scoring iterations: 6\n"
      ]
     },
     "metadata": {},
     "output_type": "display_data"
    }
   ],
   "source": [
    "logistic_model <- train(DEATH_EVENT ~ .,\n",
    "                        data= training_data,\n",
    "                        method = 'glm',\n",
    "                        family= binomial(link= 'logit'))\n",
    "summary(logistic_model)\n",
    "\n"
   ]
  },
  {
   "cell_type": "code",
   "execution_count": 22,
   "id": "a7bc64a6",
   "metadata": {},
   "outputs": [],
   "source": [
    "#Predict on the test dataset\n",
    "log_pred <- predict(logistic_model, newdata = test_data)\n",
    "\n",
    "# Create confusion matrix for logistic model\n",
    "log_cm<- confusionMatrix(log_pred, test_data$DEATH_EVENT)"
   ]
  },
  {
   "cell_type": "code",
   "execution_count": 23,
   "id": "091f241d",
   "metadata": {},
   "outputs": [
    {
     "name": "stdout",
     "output_type": "stream",
     "text": [
      "[1] \"Accuracy:\"\n",
      " Accuracy \n",
      "0.7954545 \n",
      "[1] \"Precision:\"\n",
      "Precision \n",
      "     0.85 \n",
      "[1] \"Recall (Sensitivity):\"\n",
      "Sensitivity \n",
      "       0.85 \n",
      "[1] \"F1-Score:\"\n",
      "  F1 \n",
      "0.85 \n"
     ]
    }
   ],
   "source": [
    "#Display the accuracy, precision, recall and F1 score\n",
    "print(\"Accuracy:\")\n",
    "log_accuracy<- log_cm$overall[\"Accuracy\"]\n",
    "print(log_accuracy)\n",
    "\n",
    "print(\"Precision:\")\n",
    "print(log_cm$byClass[\"Precision\"])\n",
    "\n",
    "print(\"Recall (Sensitivity):\")\n",
    "print(log_cm$byClass[\"Sensitivity\"])\n",
    "\n",
    "print(\"F1-Score:\")\n",
    "print(log_cm$byClass[\"F1\"])\n"
   ]
  },
  {
   "cell_type": "code",
   "execution_count": 24,
   "id": "3ab475c6",
   "metadata": {},
   "outputs": [],
   "source": [
    "#Create the ROC curve and calculate the AUC\n",
    "roc_lr <- roc(as.numeric(log_pred), as.numeric(test_data$DEATH_EVENT))\n",
    "# print(\"AUC(Area Under the ROC Curve):\")\n",
    "# print(auc(roc_lr))\n",
    "\n",
    "# plot(roc_lr, main = \"ROC Curve\", col = \"blue\", lwd = 2)"
   ]
  },
  {
   "cell_type": "markdown",
   "id": "d9491e91",
   "metadata": {},
   "source": [
    "## Decision Tree Model"
   ]
  },
  {
   "cell_type": "code",
   "execution_count": null,
   "id": "7f5acb91",
   "metadata": {},
   "outputs": [],
   "source": [
    "# using specific predictors for test data\n",
    " test_data <- ['age',' ejection_fraction', 'serum_creatinine' + time + high_blood_pressure]"
   ]
  },
  {
   "cell_type": "code",
   "execution_count": 25,
   "id": "bcc89e9b",
   "metadata": {},
   "outputs": [
    {
     "data": {
      "text/plain": [
       "CART \n",
       "\n",
       "211 samples\n",
       "  5 predictor\n",
       "  2 classes: 'No', 'Yes' \n",
       "\n",
       "No pre-processing\n",
       "Resampling: Cross-Validated (5 fold) \n",
       "Summary of sample sizes: 170, 170, 168, 168, 168 \n",
       "Resampling results across tuning parameters:\n",
       "\n",
       "  cp    Accuracy   Kappa     \n",
       "  0.01  0.8668179  0.69788150\n",
       "  0.02  0.8668179  0.69788150\n",
       "  0.03  0.8668179  0.69788150\n",
       "  0.04  0.8668179  0.69788150\n",
       "  0.05  0.8668179  0.69788150\n",
       "  0.06  0.8524107  0.65466683\n",
       "  0.07  0.8384572  0.61697410\n",
       "  0.08  0.8291548  0.58546663\n",
       "  0.09  0.8291548  0.58546663\n",
       "  0.10  0.8291548  0.58546663\n",
       "  0.11  0.8291548  0.58546663\n",
       "  0.12  0.8291548  0.58546663\n",
       "  0.13  0.8386841  0.59993599\n",
       "  0.14  0.8386841  0.59993599\n",
       "  0.15  0.8386841  0.59993599\n",
       "  0.16  0.8386841  0.59993599\n",
       "  0.17  0.8386841  0.59993599\n",
       "  0.18  0.8386841  0.59993599\n",
       "  0.19  0.8386841  0.59993599\n",
       "  0.20  0.8386841  0.59993599\n",
       "  0.21  0.8386841  0.59993599\n",
       "  0.22  0.8386841  0.59993599\n",
       "  0.23  0.8386841  0.59993599\n",
       "  0.24  0.8386841  0.59993599\n",
       "  0.25  0.8386841  0.59993599\n",
       "  0.26  0.8386841  0.59993599\n",
       "  0.27  0.8386841  0.59993599\n",
       "  0.28  0.8386841  0.59993599\n",
       "  0.29  0.8386841  0.59993599\n",
       "  0.30  0.8386841  0.59993599\n",
       "  0.31  0.8386841  0.59993599\n",
       "  0.32  0.8386841  0.59993599\n",
       "  0.33  0.8386841  0.59993599\n",
       "  0.34  0.8386841  0.59993599\n",
       "  0.35  0.8386841  0.59993599\n",
       "  0.36  0.8386841  0.59993599\n",
       "  0.37  0.8386841  0.59993599\n",
       "  0.38  0.8386841  0.59993599\n",
       "  0.39  0.8386841  0.59993599\n",
       "  0.40  0.8386841  0.59993599\n",
       "  0.41  0.8386841  0.59993599\n",
       "  0.42  0.8386841  0.59993599\n",
       "  0.43  0.8386841  0.59993599\n",
       "  0.44  0.8386841  0.59993599\n",
       "  0.45  0.8386841  0.59993599\n",
       "  0.46  0.8386841  0.59993599\n",
       "  0.47  0.8386841  0.59993599\n",
       "  0.48  0.7996597  0.45996528\n",
       "  0.49  0.7624504  0.32858230\n",
       "  0.50  0.6973341  0.09194729\n",
       "\n",
       "Accuracy was used to select the optimal model using the largest value.\n",
       "The final value used for the model was cp = 0.05."
      ]
     },
     "metadata": {},
     "output_type": "display_data"
    }
   ],
   "source": [
    "# Define the hyperparameter grid\n",
    "param_grid <- expand.grid(cp = seq(0.01, 0.5, by = 0.01))\n",
    "\n",
    "# Create a train control object for cross-validation\n",
    "ctrl <- trainControl(method = \"cv\", number = 5)\n",
    "\n",
    "# Perform hyperparameter tuning using caret's train function\n",
    "\n",
    "dt_model <- train(DEATH_EVENT ~ age + ejection_fraction + serum_creatinine + time + high_blood_pressure ,\n",
    "                   data = training_data,\n",
    "                   method = \"rpart\", # rpart classification and regression trees\n",
    "                   tuneGrid = param_grid,\n",
    "                   trControl = ctrl)\n",
    "\n",
    "dt_model"
   ]
  },
  {
   "cell_type": "code",
   "execution_count": 26,
   "id": "a5da219a",
   "metadata": {},
   "outputs": [
    {
     "data": {
      "text/plain": [
       "          Reference\n",
       "Prediction No Yes\n",
       "       No  47   7\n",
       "       Yes 13  21"
      ]
     },
     "metadata": {},
     "output_type": "display_data"
    }
   ],
   "source": [
    "#predict the model on test set\n",
    "decision_predict <- predict(dt_model, test_data)\n",
    "dt_cm <- confusionMatrix(decision_predict, test_data$DEATH_EVENT)\n",
    "dt_cm$table"
   ]
  },
  {
   "cell_type": "code",
   "execution_count": 27,
   "id": "ac0ff2d6",
   "metadata": {},
   "outputs": [
    {
     "name": "stdout",
     "output_type": "stream",
     "text": [
      "[1] \"Accuracy:\"\n",
      " Accuracy \n",
      "0.7727273 \n",
      "[1] \"Precision:\"\n",
      "Precision \n",
      "0.8703704 \n",
      "[1] \"Recall (Sensitivity):\"\n",
      "Sensitivity \n",
      "  0.7833333 \n",
      "[1] \"F1-Score:\"\n",
      "       F1 \n",
      "0.8245614 \n"
     ]
    }
   ],
   "source": [
    "print(\"Accuracy:\")\n",
    "print(dt_cm$overall[\"Accuracy\"])\n",
    "\n",
    "print(\"Precision:\")\n",
    "print(dt_cm$byClass[\"Precision\"])\n",
    "\n",
    "print(\"Recall (Sensitivity):\")\n",
    "print(dt_cm$byClass[\"Sensitivity\"])\n",
    "\n",
    "print(\"F1-Score:\")\n",
    "print(dt_cm$byClass[\"F1\"])\n",
    "\n",
    "\n",
    "\n"
   ]
  },
  {
   "cell_type": "code",
   "execution_count": 28,
   "id": "45bfe535",
   "metadata": {},
   "outputs": [],
   "source": [
    "#Create the ROC curve and calculate the AUC\n",
    "roc_dt <- roc(as.numeric(decision_predict), as.numeric(test_data$DEATH_EVENT))\n",
    "# print(\"AUC(Area Under the ROC Curve):\")\n",
    "# print(auc(roc_dt))\n",
    "\n",
    "# plot(roc_dt, main = \"ROC Curve\", col = \"blue\", lwd = 2)"
   ]
  },
  {
   "cell_type": "markdown",
   "id": "019794e7",
   "metadata": {},
   "source": [
    "## Random Forest Model"
   ]
  },
  {
   "cell_type": "code",
   "execution_count": 29,
   "id": "7ae4a601",
   "metadata": {},
   "outputs": [
    {
     "data": {
      "text/plain": [
       "Random Forest \n",
       "\n",
       "211 samples\n",
       "  5 predictor\n",
       "  2 classes: 'No', 'Yes' \n",
       "\n",
       "No pre-processing\n",
       "Resampling: Cross-Validated (5 fold) \n",
       "Summary of sample sizes: 169, 169, 169, 169, 168 \n",
       "Resampling results across tuning parameters:\n",
       "\n",
       "  mtry  Accuracy   Kappa    \n",
       "  1     0.8718715  0.6974997\n",
       "  2     0.8623477  0.6841835\n",
       "  3     0.8624585  0.6850633\n",
       "  4     0.8624585  0.6850633\n",
       "  5     0.8530454  0.6599916\n",
       "\n",
       "Accuracy was used to select the optimal model using the largest value.\n",
       "The final value used for the model was mtry = 1."
      ]
     },
     "metadata": {},
     "output_type": "display_data"
    }
   ],
   "source": [
    "# Create a grid of hyperparameters for each model\n",
    "param_grid <- expand.grid(.mtry =c(1,2,3,4,5))\n",
    "\n",
    "# Create a train control object for cross-validation\n",
    "ctrl <- trainControl(method = \"cv\", number = 5)\n",
    "\n",
    "rf_model <- train(DEATH_EVENT ~ age + ejection_fraction + serum_creatinine + time + high_blood_pressure,\n",
    "                  data = training_data,\n",
    "                  method = \"rf\", \n",
    "                  tuneGrid = param_grid,\n",
    "                  ntree = 500,\n",
    "                  trControl = ctrl)\n",
    "rf_model\n"
   ]
  },
  {
   "cell_type": "code",
   "execution_count": 30,
   "id": "13ad114d",
   "metadata": {},
   "outputs": [
    {
     "data": {
      "text/plain": [
       "          Reference\n",
       "Prediction No Yes\n",
       "       No  53   6\n",
       "       Yes  7  22"
      ]
     },
     "metadata": {},
     "output_type": "display_data"
    }
   ],
   "source": [
    "rf_predic <- predict(rf_model, test_data)\n",
    "\n",
    "rf_cm <- confusionMatrix(rf_predic, test_data$DEATH_EVENT)\n",
    "rf_cm$table\n",
    "\n"
   ]
  },
  {
   "cell_type": "code",
   "execution_count": 31,
   "id": "3f1bd346",
   "metadata": {},
   "outputs": [
    {
     "name": "stdout",
     "output_type": "stream",
     "text": [
      "[1] \"Accuracy:\"\n",
      " Accuracy \n",
      "0.8522727 \n",
      "[1] \"Precision:\"\n",
      "Precision \n",
      "0.8983051 \n",
      "[1] \"Recall (Sensitivity):\"\n",
      "Sensitivity \n",
      "  0.8833333 \n",
      "[1] \"F1-Score:\"\n",
      "       F1 \n",
      "0.8907563 \n"
     ]
    }
   ],
   "source": [
    "print(\"Accuracy:\")\n",
    "print(rf_cm$overall[\"Accuracy\"])\n",
    "\n",
    "print(\"Precision:\")\n",
    "print(rf_cm$byClass[\"Precision\"])\n",
    "\n",
    "print(\"Recall (Sensitivity):\")\n",
    "print(rf_cm$byClass[\"Sensitivity\"])\n",
    "\n",
    "print(\"F1-Score:\")\n",
    "print(rf_cm$byClass[\"F1\"])"
   ]
  },
  {
   "cell_type": "code",
   "execution_count": 32,
   "id": "25ca53ec",
   "metadata": {},
   "outputs": [],
   "source": [
    "#Create the ROC curve and calculate the AUC\n",
    "roc_rf <- roc(as.numeric(rf_predic), as.numeric(test_data$DEATH_EVENT))\n",
    "# print(\"AUC(Area Under the ROC Curve):\")\n",
    "# print(auc(roc_rf))\n",
    "\n",
    "# plot(roc_rf, main = \"ROC Curve\", col = \"blue\", lwd = 2)\n"
   ]
  },
  {
   "cell_type": "markdown",
   "id": "02eefe9b",
   "metadata": {},
   "source": [
    "## Support vector Machine"
   ]
  },
  {
   "cell_type": "code",
   "execution_count": 37,
   "id": "b1c01261",
   "metadata": {},
   "outputs": [
    {
     "data": {
      "text/plain": [
       "Support Vector Machines with Radial Basis Function Kernel \n",
       "\n",
       "211 samples\n",
       "  5 predictor\n",
       "  2 classes: 'No', 'Yes' \n",
       "\n",
       "No pre-processing\n",
       "Resampling: Cross-Validated (5 fold) \n",
       "Summary of sample sizes: 170, 169, 168, 169, 168 \n",
       "Resampling results across tuning parameters:\n",
       "\n",
       "  sigma  C     Accuracy   Kappa     \n",
       "   0.1    0.1  0.7255274  0.19759071\n",
       "   0.1    1.0  0.8338492  0.60276147\n",
       "   0.1   10.0  0.8480242  0.64615712\n",
       "   1.0    0.1  0.6777814  0.00000000\n",
       "   1.0    1.0  0.7814521  0.47582156\n",
       "   1.0   10.0  0.7910974  0.51570888\n",
       "  10.0    0.1  0.6777814  0.00000000\n",
       "  10.0    1.0  0.6731302  0.01291926\n",
       "  10.0   10.0  0.6826594  0.05058970\n",
       "\n",
       "Accuracy was used to select the optimal model using the largest value.\n",
       "The final values used for the model were sigma = 0.1 and C = 10."
      ]
     },
     "metadata": {},
     "output_type": "display_data"
    }
   ],
   "source": [
    "# Support Vector machine\n",
    "\n",
    "svm_grid <- expand.grid(\n",
    "  sigma = c(0.1, 1, 10),  # Specify a range of sigma values\n",
    "  C = c(0.1, 1, 10)      # Specify a range of C values\n",
    ")\n",
    "# Create a train control object for cross-validation\n",
    "ctrl <- trainControl(method = \"cv\", number = 5)\n",
    "\n",
    "svm_model <- train(DEATH_EVENT ~ age + ejection_fraction + serum_creatinine + time +high_blood_pressure , \n",
    "                   data = training_data,\n",
    "                   method = \"svmRadial\", \n",
    "                  tuneGrid = svm_grid,\n",
    "                  trControl = ctrl)\n",
    "\n",
    "\n",
    "svm_model\n"
   ]
  },
  {
   "cell_type": "code",
   "execution_count": 38,
   "id": "93e3c049",
   "metadata": {},
   "outputs": [
    {
     "data": {
      "text/plain": [
       "          Reference\n",
       "Prediction No Yes\n",
       "       No  46   4\n",
       "       Yes 14  24"
      ]
     },
     "metadata": {},
     "output_type": "display_data"
    }
   ],
   "source": [
    "svm_predict <- predict(svm_model, newdata=test_data)\n",
    "svm_cm <- confusionMatrix(svm_predict,test_data$DEATH_EVENT )\n",
    "svm_cm$table\n",
    "\n"
   ]
  },
  {
   "cell_type": "code",
   "execution_count": 39,
   "id": "4a631481",
   "metadata": {},
   "outputs": [
    {
     "name": "stdout",
     "output_type": "stream",
     "text": [
      "[1] \"Accuracy:\"\n",
      " Accuracy \n",
      "0.7954545 \n",
      "[1] \"Precision:\"\n",
      "Precision \n",
      "     0.92 \n",
      "[1] \"Recall (Sensitivity):\"\n",
      "Sensitivity \n",
      "  0.7666667 \n",
      "[1] \"F1-Score:\"\n",
      "       F1 \n",
      "0.8363636 \n"
     ]
    }
   ],
   "source": [
    "print(\"Accuracy:\")\n",
    "print(svm_cm$overall[\"Accuracy\"])\n",
    "\n",
    "print(\"Precision:\")\n",
    "print(svm_cm$byClass[\"Precision\"])\n",
    "\n",
    "print(\"Recall (Sensitivity):\")\n",
    "print(svm_cm$byClass[\"Sensitivity\"])\n",
    "\n",
    "print(\"F1-Score:\")\n",
    "print(svm_cm$byClass[\"F1\"])\n",
    "\n"
   ]
  },
  {
   "cell_type": "code",
   "execution_count": 40,
   "id": "58edfc77",
   "metadata": {},
   "outputs": [],
   "source": [
    "#Create the ROC curve and calculate the AUC\n",
    "roc_svm <- roc(as.numeric(svm_predict), as.numeric(test_data$DEATH_EVENT))\n",
    "# print(\"AUC(Area Under the ROC Curve):\")\n",
    "# print(auc(roc_svm))\n",
    "\n",
    "# plot(roc_svm, main = \"ROC Curve\", col = \"blue\", lwd = 2)\n"
   ]
  },
  {
   "cell_type": "markdown",
   "id": "29414dda",
   "metadata": {},
   "source": [
    "## Comparison Summary table"
   ]
  },
  {
   "cell_type": "code",
   "execution_count": 41,
   "id": "5168ec94",
   "metadata": {},
   "outputs": [
    {
     "data": {
      "text/html": [
       "<table>\n",
       "<thead><tr><th scope=col>Models</th><th scope=col>Accuracy</th><th scope=col>Precision</th><th scope=col>Recall</th><th scope=col>F1.Score</th><th scope=col>AUC</th></tr></thead>\n",
       "<tbody>\n",
       "\t<tr><td>Logistic Regression      </td><td>0.7954545                </td><td>0.8500000                </td><td>0.8500000                </td><td>0.8500000                </td><td>0.7642857                </td></tr>\n",
       "\t<tr><td>Decision Tree CV         </td><td>0.7727273                </td><td>0.8703704                </td><td>0.7833333                </td><td>0.8907563                </td><td>0.7440087                </td></tr>\n",
       "\t<tr><td>Random Forest CV         </td><td>0.8522727                </td><td>0.8983051                </td><td>0.8833333                </td><td>0.8907563                </td><td>0.8284629                </td></tr>\n",
       "\t<tr><td>Support Vector Machine CV</td><td>0.7954545                </td><td>0.9200000                </td><td>0.7666667                </td><td>0.8363636                </td><td>0.7757895                </td></tr>\n",
       "</tbody>\n",
       "</table>\n"
      ],
      "text/latex": [
       "\\begin{tabular}{r|llllll}\n",
       " Models & Accuracy & Precision & Recall & F1.Score & AUC\\\\\n",
       "\\hline\n",
       "\t Logistic Regression       & 0.7954545                 & 0.8500000                 & 0.8500000                 & 0.8500000                 & 0.7642857                \\\\\n",
       "\t Decision Tree CV          & 0.7727273                 & 0.8703704                 & 0.7833333                 & 0.8907563                 & 0.7440087                \\\\\n",
       "\t Random Forest CV          & 0.8522727                 & 0.8983051                 & 0.8833333                 & 0.8907563                 & 0.8284629                \\\\\n",
       "\t Support Vector Machine CV & 0.7954545                 & 0.9200000                 & 0.7666667                 & 0.8363636                 & 0.7757895                \\\\\n",
       "\\end{tabular}\n"
      ],
      "text/markdown": [
       "\n",
       "| Models | Accuracy | Precision | Recall | F1.Score | AUC |\n",
       "|---|---|---|---|---|---|\n",
       "| Logistic Regression       | 0.7954545                 | 0.8500000                 | 0.8500000                 | 0.8500000                 | 0.7642857                 |\n",
       "| Decision Tree CV          | 0.7727273                 | 0.8703704                 | 0.7833333                 | 0.8907563                 | 0.7440087                 |\n",
       "| Random Forest CV          | 0.8522727                 | 0.8983051                 | 0.8833333                 | 0.8907563                 | 0.8284629                 |\n",
       "| Support Vector Machine CV | 0.7954545                 | 0.9200000                 | 0.7666667                 | 0.8363636                 | 0.7757895                 |\n",
       "\n"
      ],
      "text/plain": [
       "  Models                    Accuracy  Precision Recall    F1.Score  AUC      \n",
       "1 Logistic Regression       0.7954545 0.8500000 0.8500000 0.8500000 0.7642857\n",
       "2 Decision Tree CV          0.7727273 0.8703704 0.7833333 0.8907563 0.7440087\n",
       "3 Random Forest CV          0.8522727 0.8983051 0.8833333 0.8907563 0.8284629\n",
       "4 Support Vector Machine CV 0.7954545 0.9200000 0.7666667 0.8363636 0.7757895"
      ]
     },
     "metadata": {},
     "output_type": "display_data"
    }
   ],
   "source": [
    "#Create a data Frame for comparison of accuracy,Precision, F1 score of all four models\n",
    "\n",
    "df = data.frame(\n",
    "  \"Models\" = c(\"Logistic Regression\",\"Decision Tree CV\",  \"Random Forest CV\", \"Support Vector Machine CV\"),\n",
    "  \"Accuracy\" = c(log_cm$overall['Accuracy'], dt_cm$overall['Accuracy'], rf_cm$overall[\"Accuracy\"], svm_cm$overall[\"Accuracy\"]),\n",
    "  \"Precision\" = c(log_cm$byClass['Precision'], dt_cm$byClass['Precision'], rf_cm$byClass['Precision'], svm_cm$byClass['Precision']),\n",
    "  \"Recall\" = c(log_cm$byClass['Recall'], dt_cm$byClass['Recall'],rf_cm$byClass['Recall'], svm_cm$byClass['Recall']),\n",
    "  \"F1 Score\" = c(log_cm$byClass['F1'], rf_cm$byClass['F1'],rf_cm$byClass['F1'], svm_cm$byClass['F1']),\n",
    "     \"AUC\" = c(auc(roc_lr), auc(roc_dt), auc(roc_rf), auc(roc_svm))\n",
    ")\n",
    "\n",
    "df"
   ]
  },
  {
   "cell_type": "code",
   "execution_count": 42,
   "id": "b6a158a2",
   "metadata": {
    "scrolled": false
   },
   "outputs": [
    {
     "data": {
      "text/html": [
       "<strong>png:</strong> 2"
      ],
      "text/latex": [
       "\\textbf{png:} 2"
      ],
      "text/markdown": [
       "**png:** 2"
      ],
      "text/plain": [
       "png \n",
       "  2 "
      ]
     },
     "metadata": {},
     "output_type": "display_data"
    },
    {
     "data": {
      "image/png": "[encoded data removed]",
      "text/plain": [
       "Plot with title \"SVM ROC\""
      ]
     },
     "metadata": {},
     "output_type": "display_data"
    }
   ],
   "source": [
    "#To avoid the warning used suppressed warining function\n",
    "suppressWarnings({\n",
    "\n",
    "# Plot the ROC curves\n",
    "par(mfrow = c(2, 2))\n",
    "plot(roc_lr, main = \"Logistic Regression ROC\", col = \"blue\", lwd = 3,\n",
    "     print.auc = TRUE, print.auc.coords = c(0.6, 0.4), print.auc.cex = 1.5, print.auc.font = 2)\n",
    "plot(roc_dt, main = \"Decision Tree ROC\", col = \"blue\", lwd = 3,\n",
    "     print.auc = TRUE, print.auc.coords = c(0.6, 0.4), print.auc.cex = 1.5, print.auc.font = 2)\n",
    "plot(roc_rf, main = \"Random Forest ROC\", col = \"blue\", lwd = 3,\n",
    "     print.auc = TRUE, print.auc.coords = c(0.6, 0.4), print.auc.cex = 1.5, print.auc.font = 2)\n",
    "plot(roc_svm, main = \"SVM ROC\", col = \"blue\", lwd = 3,\n",
    "     print.auc = TRUE, print.auc.coords = c(0.6, 0.4), print.auc.cex = 1.5, print.auc.font = 2)\n",
    "\n",
    "# Save the plots\n",
    "dev.copy(png, \"C:\\\\Users\\\\moham\\\\DataScience\\\\Predictive modeling\\\\PM_ projects\\\\Final Project\\\\ROC_plots.png\")\n",
    "dev.off()\n",
    "    \n",
    "    \n",
    "})\n",
    "\n",
    "\n",
    "\n"
   ]
  },
  {
   "cell_type": "code",
   "execution_count": null,
   "id": "f4b9e6e1",
   "metadata": {},
   "outputs": [],
   "source": []
  }
 ],
 "metadata": {
  "kernelspec": {
   "display_name": "R",
   "language": "R",
   "name": "ir"
  },
  "language_info": {
   "codemirror_mode": "r",
   "file_extension": ".r",
   "mimetype": "text/x-r-source",
   "name": "R",
   "pygments_lexer": "r",
   "version": "3.6.1"
  }
 },
 "nbformat": 4,
 "nbformat_minor": 5
}
